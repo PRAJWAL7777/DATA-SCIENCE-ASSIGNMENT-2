{
 "cells": [
  {
   "cell_type": "markdown",
   "metadata": {},
   "source": [
    "Question 1\n"
   ]
  },
  {
   "cell_type": "code",
   "execution_count": 2,
   "metadata": {},
   "outputs": [
    {
     "name": "stdout",
     "output_type": "stream",
     "text": [
      "\n",
      "Enter the value:1\n",
      "\n",
      "Enter the value:2\n",
      "\n",
      "Enter the value:3\n",
      "\n",
      "Enter the value:4\n",
      "\n",
      "Enter the value:5\n",
      "\n",
      "Enter the value:6\n",
      "\n",
      "Enter the value:7\n",
      "\n",
      "Enter the value:8\n",
      "\n",
      "Enter the value:9\n",
      "\n",
      "Enter the value:10\n",
      "\n",
      "The even list [2, 4, 6, 8, 10]\n"
     ]
    }
   ],
   "source": [
    "list=[]\n",
    "for i in range(0,10):\n",
    "    x=int(input(\"\\nEnter the value:\"))\n",
    "    list.append(x)\n",
    "even_list=[]\n",
    "for i in list:\n",
    "    if(i%2==0):\n",
    "         even_list.append(i)\n",
    "print(\"\\nThe even list\",even_list)"
   ]
  },
  {
   "cell_type": "markdown",
   "metadata": {},
   "source": [
    "Question 2"
   ]
  },
  {
   "cell_type": "code",
   "execution_count": 8,
   "metadata": {},
   "outputs": [
    {
     "name": "stdout",
     "output_type": "stream",
     "text": [
      "[2, 6, 8, 12, 30]\n"
     ]
    }
   ],
   "source": [
    "list=[2,3,5,6,8,9,12,15,21,27,25,30]\n",
    "even_list=[i for i in list if i%2==0]\n",
    "print(even_list)"
   ]
  },
  {
   "cell_type": "markdown",
   "metadata": {},
   "source": [
    "Question 3"
   ]
  },
  {
   "cell_type": "code",
   "execution_count": 2,
   "metadata": {},
   "outputs": [
    {
     "name": "stdout",
     "output_type": "stream",
     "text": [
      "9\n",
      "{1: 1, 2: 4, 3: 9, 4: 16, 5: 25, 6: 36, 7: 49, 8: 64, 9: 81}\n"
     ]
    }
   ],
   "source": [
    "dict={}\n",
    "n=int(input())\n",
    "for i in range(1,1+n):\n",
    "    dict[i]=i*i\n",
    "print(dict)"
   ]
  },
  {
   "cell_type": "markdown",
   "metadata": {},
   "source": [
    "Question 4"
   ]
  },
  {
   "cell_type": "code",
   "execution_count": 5,
   "metadata": {},
   "outputs": [
    {
     "name": "stdout",
     "output_type": "stream",
     "text": [
      "4\n",
      "UP 5\n",
      "DOWN 3\n",
      "LEFT 3\n",
      "RIGHT 2\n",
      "2\n"
     ]
    }
   ],
   "source": [
    "pos={\"x\":0,\"y\":0}\n",
    "n=int(input())\n",
    "for i in range (n):\n",
    "    move = input().split(\" \")\n",
    "    if move[0].lower()==\"up\":\n",
    "        pos[\"y\"]+=int(move[1])\n",
    "    elif move[0].lower()==\"down\":\n",
    "        pos[\"y\"]-=int(move[1])\n",
    "    elif move[0].lower()==\"left\": \n",
    "        pos[\"x\"]-=int(move[1])\n",
    "    elif move[0].lower()==\"right\": \n",
    "        pos[\"x\"]+=int(move[1])\n",
    "print(int(round((pos[\"x\"]**2+pos[\"y\"]**2)**0.5)))\n",
    "        \n",
    "        \n",
    "    \n",
    "        "
   ]
  },
  {
   "cell_type": "code",
   "execution_count": null,
   "metadata": {},
   "outputs": [],
   "source": []
  }
 ],
 "metadata": {
  "kernelspec": {
   "display_name": "Python 3",
   "language": "python",
   "name": "python3"
  },
  "language_info": {
   "codemirror_mode": {
    "name": "ipython",
    "version": 3
   },
   "file_extension": ".py",
   "mimetype": "text/x-python",
   "name": "python",
   "nbconvert_exporter": "python",
   "pygments_lexer": "ipython3",
   "version": "3.8.3"
  }
 },
 "nbformat": 4,
 "nbformat_minor": 4
}
